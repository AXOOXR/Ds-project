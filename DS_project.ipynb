{
 "cells": [
  {
   "cell_type": "code",
   "execution_count": 36,
   "id": "073e9bec",
   "metadata": {},
   "outputs": [],
   "source": [
    "\"\"\"\n",
    "    the hashing function \n",
    "    name = sha_256\n",
    "    how to use it:\n",
    "        sha_256(string_name)\n",
    "    example:\n",
    "        sha_256(\"iust\") == 'f80c97914c79caaa9589d3711bc209bea4b3f14c17ae45454c528d0183e8a30a'\n",
    "    \n",
    "    from: https://stackoverflow.com/\n",
    "    \n",
    "\"\"\"\n",
    "\n",
    "initial_hash_values=[\n",
    "'6a09e667','bb67ae85','3c6ef372','a54ff53a',\n",
    "'510e527f','9b05688c','1f83d9ab','5be0cd19'\n",
    "]\n",
    "\n",
    "sha_256_constants=[\n",
    "'428a2f98','71374491','b5c0fbcf','e9b5dba5',\n",
    "'3956c25b','59f111f1','923f82a4','ab1c5ed5',\n",
    "'d807aa98','12835b01','243185be','550c7dc3',\n",
    "'72be5d74','80deb1fe','9bdc06a7','c19bf174',\n",
    "'e49b69c1','efbe4786','0fc19dc6','240ca1cc',\n",
    "'2de92c6f','4a7484aa','5cb0a9dc','76f988da',\n",
    "'983e5152','a831c66d','b00327c8','bf597fc7',\n",
    "'c6e00bf3','d5a79147','06ca6351','14292967',\n",
    "'27b70a85','2e1b2138','4d2c6dfc','53380d13',\n",
    "'650a7354','766a0abb','81c2c92e','92722c85',\n",
    "'a2bfe8a1','a81a664b','c24b8b70','c76c51a3',\n",
    "'d192e819','d6990624','f40e3585','106aa070',\n",
    "'19a4c116','1e376c08','2748774c','34b0bcb5',\n",
    "'391c0cb3','4ed8aa4a','5b9cca4f','682e6ff3',\n",
    "'748f82ee','78a5636f','84c87814','8cc70208',\n",
    "'90befffa','a4506ceb','bef9a3f7','c67178f2'\n",
    "]\n",
    "\n",
    "def bin_return(dec):\n",
    "    return(str(format(dec,'b')))\n",
    "\n",
    "def bin_8bit(dec):\n",
    "    return(str(format(dec,'08b')))\n",
    "\n",
    "def bin_32bit(dec):\n",
    "    return(str(format(dec,'032b')))\n",
    "\n",
    "def bin_64bit(dec):\n",
    "    return(str(format(dec,'064b')))\n",
    "\n",
    "def hex_return(dec):\n",
    "    return(str(format(dec,'x')))\n",
    "\n",
    "def dec_return_bin(bin_string):\n",
    "    return(int(bin_string,2))\n",
    "\n",
    "def dec_return_hex(hex_string):\n",
    "    return(int(hex_string,16))\n",
    "\n",
    "def L_P(SET,n):\n",
    "    to_return=[]\n",
    "    j=0\n",
    "    k=n\n",
    "    while k<len(SET)+1:\n",
    "        to_return.append(SET[j:k])\n",
    "        j=k\n",
    "        k+=n \n",
    "    return(to_return)\n",
    "\n",
    "def s_l(bit_string):\n",
    "    bit_list=[]\n",
    "    for i in range(len(bit_string)):\n",
    "        bit_list.append(bit_string[i])\n",
    "    return(bit_list)\n",
    "\n",
    "def l_s(bit_list):\n",
    "    bit_string=''\n",
    "    for i in range(len(bit_list)):\n",
    "        bit_string+=bit_list[i]\n",
    "    return(bit_string)\n",
    "\n",
    "def rotate_right(bit_string,n):\n",
    "    bit_list = s_l(bit_string)\n",
    "    count=0\n",
    "    while count <= n-1:\n",
    "        list_main=list(bit_list)\n",
    "        var_0=list_main.pop(-1)\n",
    "        list_main=list([var_0]+list_main)\n",
    "        bit_list=list(list_main)\n",
    "        count+=1\n",
    "    return(l_s(list_main))\n",
    "\n",
    "def shift_right(bit_string,n):\n",
    "    bit_list=s_l(bit_string)\n",
    "    count=0\n",
    "    while count <= n-1:\n",
    "        bit_list.pop(-1)\n",
    "        count+=1\n",
    "    front_append=['0']*n\n",
    "    return(l_s(front_append+bit_list))\n",
    "\n",
    "def mod_32_addition(input_set):\n",
    "    value=0\n",
    "    for i in range(len(input_set)):\n",
    "        value+=input_set[i]\n",
    "    mod_32 = 4294967296\n",
    "    return(value%mod_32)\n",
    "\n",
    "def xor_2str(bit_string_1,bit_string_2):\n",
    "    xor_list=[]\n",
    "    for i in range(len(bit_string_1)):\n",
    "        if bit_string_1[i]=='0' and bit_string_2[i]=='0':\n",
    "            xor_list.append('0')\n",
    "        if bit_string_1[i]=='1' and bit_string_2[i]=='1':\n",
    "            xor_list.append('0')\n",
    "        if bit_string_1[i]=='0' and bit_string_2[i]=='1':\n",
    "            xor_list.append('1')\n",
    "        if bit_string_1[i]=='1' and bit_string_2[i]=='0':\n",
    "            xor_list.append('1')\n",
    "    return(l_s(xor_list))\n",
    "\n",
    "def and_2str(bit_string_1,bit_string_2):\n",
    "    and_list=[]\n",
    "    for i in range(len(bit_string_1)):\n",
    "        if bit_string_1[i]=='1' and bit_string_2[i]=='1':\n",
    "            and_list.append('1')\n",
    "        else:\n",
    "            and_list.append('0')\n",
    "            \n",
    "    return(l_s(and_list))\n",
    "\n",
    "def or_2str(bit_string_1,bit_string_2):\n",
    "    or_list=[]\n",
    "    for i in range(len(bit_string_1)):\n",
    "        if bit_string_1[i]=='0' and bit_string_2[i]=='0':\n",
    "            or_list.append('0')\n",
    "        else:\n",
    "            or_list.append('1')\n",
    "    return(l_s(or_list))\n",
    "\n",
    "def not_str(bit_string):\n",
    "    not_list=[]\n",
    "    for i in range(len(bit_string)):\n",
    "        if bit_string[i]=='0':\n",
    "            not_list.append('1')\n",
    "        else:\n",
    "            not_list.append('0')\n",
    "    return(l_s(not_list))\n",
    "\n",
    "'''\n",
    "SHA-256 Specific Functions:\n",
    "'''\n",
    "\n",
    "def Ch(x,y,z):\n",
    "    return(xor_2str(and_2str(x,y),and_2str(not_str(x),z)))\n",
    "\n",
    "def Maj(x,y,z):\n",
    "    return(xor_2str(xor_2str(and_2str(x,y),and_2str(x,z)),and_2str(y,z)))\n",
    "\n",
    "def e_0(x):\n",
    "    return(xor_2str(xor_2str(rotate_right(x,2),rotate_right(x,13)),rotate_right(x,22)))\n",
    "\n",
    "def e_1(x):\n",
    "    return(xor_2str(xor_2str(rotate_right(x,6),rotate_right(x,11)),rotate_right(x,25)))\n",
    "\n",
    "def s_0(x):\n",
    "    return(xor_2str(xor_2str(rotate_right(x,7),rotate_right(x,18)),shift_right(x,3)))\n",
    "\n",
    "def s_1(x):\n",
    "    return(xor_2str(xor_2str(rotate_right(x,17),rotate_right(x,19)),shift_right(x,10)))\n",
    "\n",
    "def message_pad(bit_list):\n",
    "    pad_one = bit_list + '1'\n",
    "    pad_len = len(pad_one)\n",
    "    k=0\n",
    "    while ((pad_len+k)-448)%512 != 0:\n",
    "        k+=1\n",
    "    back_append_0 = '0'*k\n",
    "    back_append_1 = bin_64bit(len(bit_list))\n",
    "    return(pad_one+back_append_0+back_append_1)\n",
    "    \n",
    "def message_bit_return(string_input):\n",
    "    bit_list=[]\n",
    "    for i in range(len(string_input)):\n",
    "        bit_list.append(bin_8bit(ord(string_input[i])))\n",
    "    return(l_s(bit_list))\n",
    "\n",
    "def message_pre_pro(input_string):\n",
    "    bit_main = message_bit_return(input_string)\n",
    "    return(message_pad(bit_main))\n",
    "\n",
    "def message_parsing(input_string):\n",
    "    return(L_P(message_pre_pro(input_string),32))\n",
    "\n",
    "def message_schedule(index,w_t):\n",
    "    new_word = bin_32bit(mod_32_addition([int(s_1(w_t[index-2]),2),int(w_t[index-7],2),int(s_0(w_t[index-15]),2),int(w_t[index-16],2)]))\n",
    "    return(new_word)\n",
    "\n",
    "'''\n",
    "This example of SHA_256 works for an input string <56 characters.\n",
    "'''\n",
    "\n",
    "def sha_256(input_string):\n",
    "    assert len(input_string) < 56, \"This example of SHA_256 works for an input string <56 characters.\"\n",
    "    w_t=message_parsing(input_string)\n",
    "    a=bin_32bit(dec_return_hex(initial_hash_values[0]))\n",
    "    b=bin_32bit(dec_return_hex(initial_hash_values[1]))\n",
    "    c=bin_32bit(dec_return_hex(initial_hash_values[2]))\n",
    "    d=bin_32bit(dec_return_hex(initial_hash_values[3]))\n",
    "    e=bin_32bit(dec_return_hex(initial_hash_values[4]))\n",
    "    f=bin_32bit(dec_return_hex(initial_hash_values[5]))\n",
    "    g=bin_32bit(dec_return_hex(initial_hash_values[6]))\n",
    "    h=bin_32bit(dec_return_hex(initial_hash_values[7]))\n",
    "    for i in range(0,64):\n",
    "        if i <= 15: \n",
    "            t_1=mod_32_addition([int(h,2),int(e_1(e),2),int(Ch(e,f,g),2),int(sha_256_constants[i],16),int(w_t[i],2)])\n",
    "            t_2=mod_32_addition([int(e_0(a),2),int(Maj(a,b,c),2)])\n",
    "            h=g\n",
    "            g=f\n",
    "            f=e\n",
    "            e=mod_32_addition([int(d,2),t_1])\n",
    "            d=c\n",
    "            c=b\n",
    "            b=a \n",
    "            a=mod_32_addition([t_1,t_2])\n",
    "            a=bin_32bit(a)\n",
    "            e=bin_32bit(e)\n",
    "        if i > 15:\n",
    "            w_t.append(message_schedule(i,w_t))\n",
    "            t_1=mod_32_addition([int(h,2),int(e_1(e),2),int(Ch(e,f,g),2),int(sha_256_constants[i],16),int(w_t[i],2)])\n",
    "            t_2=mod_32_addition([int(e_0(a),2),int(Maj(a,b,c),2)])\n",
    "            h=g\n",
    "            g=f\n",
    "            f=e\n",
    "            e=mod_32_addition([int(d,2),t_1])\n",
    "            d=c\n",
    "            c=b\n",
    "            b=a \n",
    "            a=mod_32_addition([t_1,t_2])\n",
    "            a=bin_32bit(a)\n",
    "            e=bin_32bit(e)\n",
    "    hash_0 = mod_32_addition([dec_return_hex(initial_hash_values[0]),int(a,2)])\n",
    "    hash_1 = mod_32_addition([dec_return_hex(initial_hash_values[1]),int(b,2)])\n",
    "    hash_2 = mod_32_addition([dec_return_hex(initial_hash_values[2]),int(c,2)])\n",
    "    hash_3 = mod_32_addition([dec_return_hex(initial_hash_values[3]),int(d,2)])\n",
    "    hash_4 = mod_32_addition([dec_return_hex(initial_hash_values[4]),int(e,2)])\n",
    "    hash_5 = mod_32_addition([dec_return_hex(initial_hash_values[5]),int(f,2)])\n",
    "    hash_6 = mod_32_addition([dec_return_hex(initial_hash_values[6]),int(g,2)])\n",
    "    hash_7 = mod_32_addition([dec_return_hex(initial_hash_values[7]),int(h,2)])\n",
    "    final_hash =''.join ([hex_return(hash_0), # changes = ''.join ([])\n",
    "                  hex_return(hash_1),\n",
    "                  hex_return(hash_2),\n",
    "                  hex_return(hash_3),\n",
    "                  hex_return(hash_4),\n",
    "                  hex_return(hash_5),\n",
    "                  hex_return(hash_6),\n",
    "                  hex_return(hash_7)])\n",
    "    return(final_hash)\n"
   ]
  },
  {
   "cell_type": "code",
   "execution_count": 37,
   "id": "e165f262",
   "metadata": {},
   "outputs": [],
   "source": [
    "#import the libraries\n",
    "\n",
    "from collections import deque\n",
    "import plotly.graph_objs as go\n",
    "\n",
    "\n"
   ]
  },
  {
   "cell_type": "code",
   "execution_count": 38,
   "id": "b6047b5b",
   "metadata": {},
   "outputs": [],
   "source": [
    "class Family: #create the class\n",
    "    \n",
    "    def __init__(self, person): #person is the name of that person \n",
    "        self.name = person\n",
    "        self.father = None    #this tree fills with the function \n",
    "        self.mother = None    \n",
    "        self.children = []\n",
    "        \n",
    "    def add_father(self, father): # add the father of the node \n",
    "        self.father = father\n",
    "\n",
    "    def add_mother(self, mother): # add the mother of the node \n",
    "        \n",
    "        self.mother = mother\n",
    "\n",
    "    def add_child(self, child):        # add the childrene of the node that can be more than one\n",
    "        self.children.append(child)    # but the parents are uniqe\n",
    "        \n",
    "        \n",
    "    def find(self, person_name): # for the input argument we should give the root \n",
    "        # Recursively find a person in the family tree\n",
    "        if self.name == person_name:\n",
    "            return self\n",
    "        for child in self.children:\n",
    "            result = child.find(person_name)\n",
    "            if result:\n",
    "                return result\n",
    "        return None\n",
    "         #------------------------------------------------O(n)-----------------------------------------------------------------\n",
    "\n",
    "\n",
    "    def delete(self):        # problem\n",
    "        self.name = \"dead\"\n",
    "        return \"Done\"\n",
    "        #------------------------------------------------O(1)-----------------------------------------------------------------\n",
    "\n",
    "\n",
    "    def size(self):  \n",
    "        # Calculate the size of the family tree (number of nodes)\n",
    "        count = 1  # counting the current node\n",
    "        for child in self.children:\n",
    "            count += child.size()\n",
    "            child.size()\n",
    "        return count\n",
    "        #------------------------------------------------O(n)-----------------------------------------------------------------\n",
    "\n",
    "#-----------------------------------------------------------------------------------------------------------\n",
    "\n",
    "#------------------------------------------------------------------------------------------------------------\n",
    "    def is_child(self, person_name): # چک کردن والد و فرزند بودن\n",
    "        for child in self.children:  #\n",
    "            if child.name == person_name.name:\n",
    "                return True\n",
    "            elif child.is_child(person_name):  # Recursive call should check the return value\n",
    "                return True                    # in the elif  checks that thats its find ora not \n",
    "        return False\n",
    "                        \n",
    "                        \n",
    "    def is_siblings(self, other): #چک کردن برادر یا خواهر بودن\n",
    "        if self.father == other.father and self.mother == other.mother: # simple :)\n",
    "            return True\n",
    "        else:\n",
    "            return False\n",
    "     \n",
    "        \n",
    "    def farest(self):# پیدا کردن  فاصله دورترین زاده\n",
    "        '''\n",
    "                in fact we want to find the hieght of the node \n",
    "                we search in children of the node and return the max\n",
    "                if the node dosent have any child return 0\n",
    "                Example usage:\n",
    "                Let's build a simple tree\n",
    "                                A\n",
    "                               / \\\n",
    "                              B   C\n",
    "                             /   / \\\n",
    "                            D   E   F\n",
    "                farest(nodeB))  -> Output should be 1\n",
    "        '''\n",
    "     #------------------------------------------------O(n)-----------------------------------------------------------------\n",
    "\n",
    "        if not self.children:\n",
    "            return 0\n",
    "\n",
    "        else:\n",
    "            return 1 + max(child.farest() for child in self.children) \n",
    "    \n",
    "    \n",
    "    def max_width_and_values(root): # پیدا کردن فاصله دورترین رابطه خیشاوندی\n",
    "        \n",
    "    \n",
    "        #------------------------------------------------O(V+E)-----------------------------------------------------------------\n",
    "        #where V is number of vertices and E is number of edges in Family tree\n",
    "        if not root:\n",
    "            return 0, []\n",
    "\n",
    "        max_width = 0\n",
    "        max_width_level_values = []\n",
    "        queue = deque([(root, 0)])\n",
    "\n",
    "        current_level = 0\n",
    "        current_level_values = []\n",
    "        current_level_width = 0\n",
    "\n",
    "        while queue:\n",
    "            node, level = queue.popleft()\n",
    "\n",
    "            if level == current_level:\n",
    "                current_level_values.append(node.name)\n",
    "                current_level_width += 1\n",
    "            else:\n",
    "                if current_level_width > max_width:\n",
    "                    max_width = current_level_width\n",
    "                    max_width_level_values = current_level_values\n",
    "\n",
    "                current_level_values = [node.name] # name -> value\n",
    "                current_level_width = 1\n",
    "                current_level = level\n",
    "\n",
    "            for child in node.children:\n",
    "                queue.append((child, level + 1))\n",
    "\n",
    "        if current_level_width > max_width:\n",
    "            max_width = current_level_width\n",
    "            max_width_level_values = current_level_values\n",
    "\n",
    "        return max_width, max_width_level_values\n",
    "    \n",
    "    \n",
    "    \n",
    "    \n",
    "    def far_relation(self, other):  # پیدا کردن جد مشترک\n",
    "        dis = 1\n",
    "        if self.name == other.name:\n",
    "            return self.name\n",
    "        else:\n",
    "            return self.father.far_relation(other.father)\n",
    "        #------------------------------------------------O(n)-----------------------------------------------------------------\n",
    "\n",
    "\n",
    "\n",
    "    \n",
    "    \n",
    "    \n",
    "    def is_related(self, other): #چک کردن رابطه فامیلی دور\n",
    "        \"\"\"\n",
    "        This function checks if self and other are part of the same family tree (i.e., related)\n",
    "        by looking for any common ancestor.\n",
    "        \"\"\"\n",
    "        #------------------------------------------------O(n**2)-----------------------------------------------------------------\n",
    "\n",
    "        # Internal recursive function to find all ancestors of a Family node\n",
    "        def find_ancestors(person): #  چک کردن رابطه فامیلی دور\n",
    "            ancestors = set() # in this code we check for both mother and father but its un neccery to check the mother \n",
    "                              # this Family Tree is fathers based\n",
    "            if person is None:\n",
    "                return ancestors\n",
    "            # Add the current person to the set of ancestors\n",
    "            ancestors.add(person)\n",
    "            # Recursively find and add all ancestors from the father's side\n",
    "            ancestors.update(find_ancestors(person.father))\n",
    "            # Recursively find and add all ancestors from the mother's side\n",
    "            ancestors.update(find_ancestors(person.mother))\n",
    "            return ancestors\n",
    "    \n",
    "        # Find all ancestors for both self and other\n",
    "        self_ancestors = find_ancestors(self)\n",
    "        other_ancestors = find_ancestors(other)\n",
    "        \n",
    "        # Determine if there's a common ancestor:\n",
    "        # If the intersection is not empty, then they are related.\n",
    "        return len(self_ancestors.intersection(other_ancestors)) > 0   \n",
    "    \n",
    "#---------------------------------------------------------------------------------------------------------------------------\n",
    "#---------------------------------------------------------------------------------------------------------------------------\n",
    "#---------------------------------------------------------------------------------------------------------------------------\n",
    "#---------------------------------------------------------------------------------------------------------------------------\n",
    "#---------------------------------------------------------------------------------------------------------------------------\n",
    " \n",
    "    def visualize_family_tree(root):\n",
    "        # This will be recursively called to fill in the node and edge information\n",
    "        def traverse(member, depth):\n",
    "            if member.name in positions:\n",
    "                return # Already visited this member\n",
    "            positions[member.name] = (depth, len(levels[depth]))  # Use depth for x, order for y position\n",
    "            levels[depth].append(member.name)\n",
    "            if member.father:\n",
    "                traverse(member.father, depth+1)\n",
    "                edges.append((member.father.name, member.name))\n",
    "            if member.mother:\n",
    "                traverse(member.mother, depth+1)\n",
    "                edges.append((member.mother.name, member.name))\n",
    "            for child in member.children:\n",
    "                traverse(child, depth-1)\n",
    "                edges.append((member.name, child.name))\n",
    "\n",
    "        positions = {}  # To hold the (x,y) positions of each member\n",
    "        edges = []      # To hold the tuples representing family connections\n",
    "        levels = {}     # Each depth level in the family tree\n",
    "\n",
    "        # Initialize levels with empty lists for each potential depth\n",
    "        for i in range(-10, 11): # Assuming the tree won't be deeper than 20 generations either way\n",
    "            levels[i] = []\n",
    "\n",
    "        # Start the recursive process from the 'root' of the family tree\n",
    "        # Generally the youngest member without children is used as the root\n",
    "        traverse(root, 0)\n",
    "\n",
    "        # Generate node and edge information suitable for plotting with Plotly\n",
    "        node_x = []\n",
    "        node_y = []\n",
    "        node_text = []\n",
    "        edge_x = []\n",
    "        edge_y = []\n",
    "\n",
    "        for name, (depth, order) in positions.items():\n",
    "            node_x.append(depth)\n",
    "            node_y.append(order)\n",
    "            node_text.append(name)\n",
    "\n",
    "            for parent, child in edges:\n",
    "                if parent == name or child == name:\n",
    "                    parent_pos = positions[parent]\n",
    "                    child_pos = positions[child]\n",
    "                    edge_x.extend([parent_pos[0], child_pos[0], None])\n",
    "                    edge_y.extend([parent_pos[1], child_pos[1], None])\n",
    "\n",
    "        # Plot the nodes\n",
    "        node_trace = go.Scatter(x=node_x, y=node_y, text=node_text, mode='markers+text', textposition='bottom center')\n",
    "\n",
    "        # Plot the edges\n",
    "        edge_trace = go.Scatter(x=edge_x, y=edge_y, mode='lines')\n",
    "\n",
    "        # Create a Plotly figure\n",
    "        fig = go.Figure(data=[edge_trace, node_trace],\n",
    "                        layout=go.Layout(title='Family Tree',\n",
    "                                         showlegend=False,\n",
    "                                         hovermode='closest'))\n",
    "\n",
    "        # Display the figure\n",
    "        fig.show()\n",
    "\n",
    "    # Usage:\n",
    "    # root = Family(\"YoungestMemberName\")\n",
    "    # set up the family tree with add_father, add_mother, add_child\n",
    "    # visualize_family_tree(root)\n",
    "\n",
    "        \n",
    "    "
   ]
  },
  {
   "cell_type": "markdown",
   "id": "e45904e6",
   "metadata": {},
   "source": [
    "# menue \n",
    "\n",
    "\n",
    "### def is_child(other)\n",
    "\n",
    "### def is_siblings(other)\n",
    "\n",
    "### def max_width_and_values()\n",
    "\n",
    "### def farest()\n",
    "\n",
    "### def is_related(other)\n",
    "\n",
    "### def far_relation(other)\n",
    "\n",
    "### def root.visualize_family_tree()\n",
    "\n",
    "\n",
    "                                A\n",
    "                               / \\\n",
    "                              B   C\n",
    "                             /   / \\\n",
    "                            D   E   F\n",
    "\n",
    "\n",
    "\n"
   ]
  },
  {
   "cell_type": "code",
   "execution_count": 43,
   "id": "cc90c795",
   "metadata": {},
   "outputs": [
    {
     "name": "stdout",
     "output_type": "stream",
     "text": [
      "6\n",
      "A\n",
      "True\n",
      "True\n",
      "(3, ['D', 'E', 'F'])\n",
      "2\n",
      "True\n"
     ]
    },
    {
     "data": {
      "application/vnd.plotly.v1+json": {
       "config": {
        "plotlyServerURL": "https://plot.ly"
       },
       "data": [
        {
         "mode": "lines",
         "type": "scatter",
         "x": [
          0,
          -1,
          null,
          0,
          -1,
          null,
          0,
          -1,
          null,
          0,
          -1,
          null,
          0,
          -1,
          null,
          -1,
          -2,
          null,
          -1,
          -2,
          null,
          0,
          -1,
          null,
          -1,
          -2,
          null,
          -1,
          -2,
          null,
          0,
          -1,
          null,
          -1,
          -2,
          null,
          -1,
          -2,
          null,
          -1,
          -2,
          null,
          -1,
          -2,
          null,
          0,
          -1,
          null,
          -1,
          -2,
          null,
          -1,
          -2,
          null,
          -1,
          -2,
          null,
          -1,
          -2,
          null
         ],
         "y": [
          0,
          0,
          null,
          0,
          0,
          null,
          0,
          1,
          null,
          0,
          1,
          null,
          0,
          0,
          null,
          0,
          0,
          null,
          0,
          0,
          null,
          0,
          0,
          null,
          0,
          0,
          null,
          0,
          0,
          null,
          0,
          1,
          null,
          1,
          1,
          null,
          1,
          1,
          null,
          1,
          2,
          null,
          1,
          2,
          null,
          0,
          1,
          null,
          1,
          1,
          null,
          1,
          1,
          null,
          1,
          2,
          null,
          1,
          2,
          null
         ]
        },
        {
         "mode": "markers+text",
         "text": [
          "A",
          "B",
          "D",
          "C",
          "E",
          "F"
         ],
         "textposition": "bottom center",
         "type": "scatter",
         "x": [
          0,
          -1,
          -2,
          -1,
          -2,
          -2
         ],
         "y": [
          0,
          0,
          0,
          1,
          1,
          2
         ]
        }
       ],
       "layout": {
        "hovermode": "closest",
        "showlegend": false,
        "template": {
         "data": {
          "bar": [
           {
            "error_x": {
             "color": "#2a3f5f"
            },
            "error_y": {
             "color": "#2a3f5f"
            },
            "marker": {
             "line": {
              "color": "#E5ECF6",
              "width": 0.5
             },
             "pattern": {
              "fillmode": "overlay",
              "size": 10,
              "solidity": 0.2
             }
            },
            "type": "bar"
           }
          ],
          "barpolar": [
           {
            "marker": {
             "line": {
              "color": "#E5ECF6",
              "width": 0.5
             },
             "pattern": {
              "fillmode": "overlay",
              "size": 10,
              "solidity": 0.2
             }
            },
            "type": "barpolar"
           }
          ],
          "carpet": [
           {
            "aaxis": {
             "endlinecolor": "#2a3f5f",
             "gridcolor": "white",
             "linecolor": "white",
             "minorgridcolor": "white",
             "startlinecolor": "#2a3f5f"
            },
            "baxis": {
             "endlinecolor": "#2a3f5f",
             "gridcolor": "white",
             "linecolor": "white",
             "minorgridcolor": "white",
             "startlinecolor": "#2a3f5f"
            },
            "type": "carpet"
           }
          ],
          "choropleth": [
           {
            "colorbar": {
             "outlinewidth": 0,
             "ticks": ""
            },
            "type": "choropleth"
           }
          ],
          "contour": [
           {
            "colorbar": {
             "outlinewidth": 0,
             "ticks": ""
            },
            "colorscale": [
             [
              0,
              "#0d0887"
             ],
             [
              0.1111111111111111,
              "#46039f"
             ],
             [
              0.2222222222222222,
              "#7201a8"
             ],
             [
              0.3333333333333333,
              "#9c179e"
             ],
             [
              0.4444444444444444,
              "#bd3786"
             ],
             [
              0.5555555555555556,
              "#d8576b"
             ],
             [
              0.6666666666666666,
              "#ed7953"
             ],
             [
              0.7777777777777778,
              "#fb9f3a"
             ],
             [
              0.8888888888888888,
              "#fdca26"
             ],
             [
              1,
              "#f0f921"
             ]
            ],
            "type": "contour"
           }
          ],
          "contourcarpet": [
           {
            "colorbar": {
             "outlinewidth": 0,
             "ticks": ""
            },
            "type": "contourcarpet"
           }
          ],
          "heatmap": [
           {
            "colorbar": {
             "outlinewidth": 0,
             "ticks": ""
            },
            "colorscale": [
             [
              0,
              "#0d0887"
             ],
             [
              0.1111111111111111,
              "#46039f"
             ],
             [
              0.2222222222222222,
              "#7201a8"
             ],
             [
              0.3333333333333333,
              "#9c179e"
             ],
             [
              0.4444444444444444,
              "#bd3786"
             ],
             [
              0.5555555555555556,
              "#d8576b"
             ],
             [
              0.6666666666666666,
              "#ed7953"
             ],
             [
              0.7777777777777778,
              "#fb9f3a"
             ],
             [
              0.8888888888888888,
              "#fdca26"
             ],
             [
              1,
              "#f0f921"
             ]
            ],
            "type": "heatmap"
           }
          ],
          "heatmapgl": [
           {
            "colorbar": {
             "outlinewidth": 0,
             "ticks": ""
            },
            "colorscale": [
             [
              0,
              "#0d0887"
             ],
             [
              0.1111111111111111,
              "#46039f"
             ],
             [
              0.2222222222222222,
              "#7201a8"
             ],
             [
              0.3333333333333333,
              "#9c179e"
             ],
             [
              0.4444444444444444,
              "#bd3786"
             ],
             [
              0.5555555555555556,
              "#d8576b"
             ],
             [
              0.6666666666666666,
              "#ed7953"
             ],
             [
              0.7777777777777778,
              "#fb9f3a"
             ],
             [
              0.8888888888888888,
              "#fdca26"
             ],
             [
              1,
              "#f0f921"
             ]
            ],
            "type": "heatmapgl"
           }
          ],
          "histogram": [
           {
            "marker": {
             "pattern": {
              "fillmode": "overlay",
              "size": 10,
              "solidity": 0.2
             }
            },
            "type": "histogram"
           }
          ],
          "histogram2d": [
           {
            "colorbar": {
             "outlinewidth": 0,
             "ticks": ""
            },
            "colorscale": [
             [
              0,
              "#0d0887"
             ],
             [
              0.1111111111111111,
              "#46039f"
             ],
             [
              0.2222222222222222,
              "#7201a8"
             ],
             [
              0.3333333333333333,
              "#9c179e"
             ],
             [
              0.4444444444444444,
              "#bd3786"
             ],
             [
              0.5555555555555556,
              "#d8576b"
             ],
             [
              0.6666666666666666,
              "#ed7953"
             ],
             [
              0.7777777777777778,
              "#fb9f3a"
             ],
             [
              0.8888888888888888,
              "#fdca26"
             ],
             [
              1,
              "#f0f921"
             ]
            ],
            "type": "histogram2d"
           }
          ],
          "histogram2dcontour": [
           {
            "colorbar": {
             "outlinewidth": 0,
             "ticks": ""
            },
            "colorscale": [
             [
              0,
              "#0d0887"
             ],
             [
              0.1111111111111111,
              "#46039f"
             ],
             [
              0.2222222222222222,
              "#7201a8"
             ],
             [
              0.3333333333333333,
              "#9c179e"
             ],
             [
              0.4444444444444444,
              "#bd3786"
             ],
             [
              0.5555555555555556,
              "#d8576b"
             ],
             [
              0.6666666666666666,
              "#ed7953"
             ],
             [
              0.7777777777777778,
              "#fb9f3a"
             ],
             [
              0.8888888888888888,
              "#fdca26"
             ],
             [
              1,
              "#f0f921"
             ]
            ],
            "type": "histogram2dcontour"
           }
          ],
          "mesh3d": [
           {
            "colorbar": {
             "outlinewidth": 0,
             "ticks": ""
            },
            "type": "mesh3d"
           }
          ],
          "parcoords": [
           {
            "line": {
             "colorbar": {
              "outlinewidth": 0,
              "ticks": ""
             }
            },
            "type": "parcoords"
           }
          ],
          "pie": [
           {
            "automargin": true,
            "type": "pie"
           }
          ],
          "scatter": [
           {
            "fillpattern": {
             "fillmode": "overlay",
             "size": 10,
             "solidity": 0.2
            },
            "type": "scatter"
           }
          ],
          "scatter3d": [
           {
            "line": {
             "colorbar": {
              "outlinewidth": 0,
              "ticks": ""
             }
            },
            "marker": {
             "colorbar": {
              "outlinewidth": 0,
              "ticks": ""
             }
            },
            "type": "scatter3d"
           }
          ],
          "scattercarpet": [
           {
            "marker": {
             "colorbar": {
              "outlinewidth": 0,
              "ticks": ""
             }
            },
            "type": "scattercarpet"
           }
          ],
          "scattergeo": [
           {
            "marker": {
             "colorbar": {
              "outlinewidth": 0,
              "ticks": ""
             }
            },
            "type": "scattergeo"
           }
          ],
          "scattergl": [
           {
            "marker": {
             "colorbar": {
              "outlinewidth": 0,
              "ticks": ""
             }
            },
            "type": "scattergl"
           }
          ],
          "scattermapbox": [
           {
            "marker": {
             "colorbar": {
              "outlinewidth": 0,
              "ticks": ""
             }
            },
            "type": "scattermapbox"
           }
          ],
          "scatterpolar": [
           {
            "marker": {
             "colorbar": {
              "outlinewidth": 0,
              "ticks": ""
             }
            },
            "type": "scatterpolar"
           }
          ],
          "scatterpolargl": [
           {
            "marker": {
             "colorbar": {
              "outlinewidth": 0,
              "ticks": ""
             }
            },
            "type": "scatterpolargl"
           }
          ],
          "scatterternary": [
           {
            "marker": {
             "colorbar": {
              "outlinewidth": 0,
              "ticks": ""
             }
            },
            "type": "scatterternary"
           }
          ],
          "surface": [
           {
            "colorbar": {
             "outlinewidth": 0,
             "ticks": ""
            },
            "colorscale": [
             [
              0,
              "#0d0887"
             ],
             [
              0.1111111111111111,
              "#46039f"
             ],
             [
              0.2222222222222222,
              "#7201a8"
             ],
             [
              0.3333333333333333,
              "#9c179e"
             ],
             [
              0.4444444444444444,
              "#bd3786"
             ],
             [
              0.5555555555555556,
              "#d8576b"
             ],
             [
              0.6666666666666666,
              "#ed7953"
             ],
             [
              0.7777777777777778,
              "#fb9f3a"
             ],
             [
              0.8888888888888888,
              "#fdca26"
             ],
             [
              1,
              "#f0f921"
             ]
            ],
            "type": "surface"
           }
          ],
          "table": [
           {
            "cells": {
             "fill": {
              "color": "#EBF0F8"
             },
             "line": {
              "color": "white"
             }
            },
            "header": {
             "fill": {
              "color": "#C8D4E3"
             },
             "line": {
              "color": "white"
             }
            },
            "type": "table"
           }
          ]
         },
         "layout": {
          "annotationdefaults": {
           "arrowcolor": "#2a3f5f",
           "arrowhead": 0,
           "arrowwidth": 1
          },
          "autotypenumbers": "strict",
          "coloraxis": {
           "colorbar": {
            "outlinewidth": 0,
            "ticks": ""
           }
          },
          "colorscale": {
           "diverging": [
            [
             0,
             "#8e0152"
            ],
            [
             0.1,
             "#c51b7d"
            ],
            [
             0.2,
             "#de77ae"
            ],
            [
             0.3,
             "#f1b6da"
            ],
            [
             0.4,
             "#fde0ef"
            ],
            [
             0.5,
             "#f7f7f7"
            ],
            [
             0.6,
             "#e6f5d0"
            ],
            [
             0.7,
             "#b8e186"
            ],
            [
             0.8,
             "#7fbc41"
            ],
            [
             0.9,
             "#4d9221"
            ],
            [
             1,
             "#276419"
            ]
           ],
           "sequential": [
            [
             0,
             "#0d0887"
            ],
            [
             0.1111111111111111,
             "#46039f"
            ],
            [
             0.2222222222222222,
             "#7201a8"
            ],
            [
             0.3333333333333333,
             "#9c179e"
            ],
            [
             0.4444444444444444,
             "#bd3786"
            ],
            [
             0.5555555555555556,
             "#d8576b"
            ],
            [
             0.6666666666666666,
             "#ed7953"
            ],
            [
             0.7777777777777778,
             "#fb9f3a"
            ],
            [
             0.8888888888888888,
             "#fdca26"
            ],
            [
             1,
             "#f0f921"
            ]
           ],
           "sequentialminus": [
            [
             0,
             "#0d0887"
            ],
            [
             0.1111111111111111,
             "#46039f"
            ],
            [
             0.2222222222222222,
             "#7201a8"
            ],
            [
             0.3333333333333333,
             "#9c179e"
            ],
            [
             0.4444444444444444,
             "#bd3786"
            ],
            [
             0.5555555555555556,
             "#d8576b"
            ],
            [
             0.6666666666666666,
             "#ed7953"
            ],
            [
             0.7777777777777778,
             "#fb9f3a"
            ],
            [
             0.8888888888888888,
             "#fdca26"
            ],
            [
             1,
             "#f0f921"
            ]
           ]
          },
          "colorway": [
           "#636efa",
           "#EF553B",
           "#00cc96",
           "#ab63fa",
           "#FFA15A",
           "#19d3f3",
           "#FF6692",
           "#B6E880",
           "#FF97FF",
           "#FECB52"
          ],
          "font": {
           "color": "#2a3f5f"
          },
          "geo": {
           "bgcolor": "white",
           "lakecolor": "white",
           "landcolor": "#E5ECF6",
           "showlakes": true,
           "showland": true,
           "subunitcolor": "white"
          },
          "hoverlabel": {
           "align": "left"
          },
          "hovermode": "closest",
          "mapbox": {
           "style": "light"
          },
          "paper_bgcolor": "white",
          "plot_bgcolor": "#E5ECF6",
          "polar": {
           "angularaxis": {
            "gridcolor": "white",
            "linecolor": "white",
            "ticks": ""
           },
           "bgcolor": "#E5ECF6",
           "radialaxis": {
            "gridcolor": "white",
            "linecolor": "white",
            "ticks": ""
           }
          },
          "scene": {
           "xaxis": {
            "backgroundcolor": "#E5ECF6",
            "gridcolor": "white",
            "gridwidth": 2,
            "linecolor": "white",
            "showbackground": true,
            "ticks": "",
            "zerolinecolor": "white"
           },
           "yaxis": {
            "backgroundcolor": "#E5ECF6",
            "gridcolor": "white",
            "gridwidth": 2,
            "linecolor": "white",
            "showbackground": true,
            "ticks": "",
            "zerolinecolor": "white"
           },
           "zaxis": {
            "backgroundcolor": "#E5ECF6",
            "gridcolor": "white",
            "gridwidth": 2,
            "linecolor": "white",
            "showbackground": true,
            "ticks": "",
            "zerolinecolor": "white"
           }
          },
          "shapedefaults": {
           "line": {
            "color": "#2a3f5f"
           }
          },
          "ternary": {
           "aaxis": {
            "gridcolor": "white",
            "linecolor": "white",
            "ticks": ""
           },
           "baxis": {
            "gridcolor": "white",
            "linecolor": "white",
            "ticks": ""
           },
           "bgcolor": "#E5ECF6",
           "caxis": {
            "gridcolor": "white",
            "linecolor": "white",
            "ticks": ""
           }
          },
          "title": {
           "x": 0.05
          },
          "xaxis": {
           "automargin": true,
           "gridcolor": "white",
           "linecolor": "white",
           "ticks": "",
           "title": {
            "standoff": 15
           },
           "zerolinecolor": "white",
           "zerolinewidth": 2
          },
          "yaxis": {
           "automargin": true,
           "gridcolor": "white",
           "linecolor": "white",
           "ticks": "",
           "title": {
            "standoff": 15
           },
           "zerolinecolor": "white",
           "zerolinewidth": 2
          }
         }
        },
        "title": {
         "text": "Family Tree"
        }
       }
      },
      "text/html": [
       "<div>                            <div id=\"e8905577-7a48-4f22-9cb6-f3485d0c0064\" class=\"plotly-graph-div\" style=\"height:525px; width:100%;\"></div>            <script type=\"text/javascript\">                require([\"plotly\"], function(Plotly) {                    window.PLOTLYENV=window.PLOTLYENV || {};                                    if (document.getElementById(\"e8905577-7a48-4f22-9cb6-f3485d0c0064\")) {                    Plotly.newPlot(                        \"e8905577-7a48-4f22-9cb6-f3485d0c0064\",                        [{\"mode\":\"lines\",\"x\":[0,-1,null,0,-1,null,0,-1,null,0,-1,null,0,-1,null,-1,-2,null,-1,-2,null,0,-1,null,-1,-2,null,-1,-2,null,0,-1,null,-1,-2,null,-1,-2,null,-1,-2,null,-1,-2,null,0,-1,null,-1,-2,null,-1,-2,null,-1,-2,null,-1,-2,null],\"y\":[0,0,null,0,0,null,0,1,null,0,1,null,0,0,null,0,0,null,0,0,null,0,0,null,0,0,null,0,0,null,0,1,null,1,1,null,1,1,null,1,2,null,1,2,null,0,1,null,1,1,null,1,1,null,1,2,null,1,2,null],\"type\":\"scatter\"},{\"mode\":\"markers+text\",\"text\":[\"A\",\"B\",\"D\",\"C\",\"E\",\"F\"],\"textposition\":\"bottom center\",\"x\":[0,-1,-2,-1,-2,-2],\"y\":[0,0,0,1,1,2],\"type\":\"scatter\"}],                        {\"hovermode\":\"closest\",\"showlegend\":false,\"title\":{\"text\":\"Family Tree\"},\"template\":{\"data\":{\"histogram2dcontour\":[{\"type\":\"histogram2dcontour\",\"colorbar\":{\"outlinewidth\":0,\"ticks\":\"\"},\"colorscale\":[[0.0,\"#0d0887\"],[0.1111111111111111,\"#46039f\"],[0.2222222222222222,\"#7201a8\"],[0.3333333333333333,\"#9c179e\"],[0.4444444444444444,\"#bd3786\"],[0.5555555555555556,\"#d8576b\"],[0.6666666666666666,\"#ed7953\"],[0.7777777777777778,\"#fb9f3a\"],[0.8888888888888888,\"#fdca26\"],[1.0,\"#f0f921\"]]}],\"choropleth\":[{\"type\":\"choropleth\",\"colorbar\":{\"outlinewidth\":0,\"ticks\":\"\"}}],\"histogram2d\":[{\"type\":\"histogram2d\",\"colorbar\":{\"outlinewidth\":0,\"ticks\":\"\"},\"colorscale\":[[0.0,\"#0d0887\"],[0.1111111111111111,\"#46039f\"],[0.2222222222222222,\"#7201a8\"],[0.3333333333333333,\"#9c179e\"],[0.4444444444444444,\"#bd3786\"],[0.5555555555555556,\"#d8576b\"],[0.6666666666666666,\"#ed7953\"],[0.7777777777777778,\"#fb9f3a\"],[0.8888888888888888,\"#fdca26\"],[1.0,\"#f0f921\"]]}],\"heatmap\":[{\"type\":\"heatmap\",\"colorbar\":{\"outlinewidth\":0,\"ticks\":\"\"},\"colorscale\":[[0.0,\"#0d0887\"],[0.1111111111111111,\"#46039f\"],[0.2222222222222222,\"#7201a8\"],[0.3333333333333333,\"#9c179e\"],[0.4444444444444444,\"#bd3786\"],[0.5555555555555556,\"#d8576b\"],[0.6666666666666666,\"#ed7953\"],[0.7777777777777778,\"#fb9f3a\"],[0.8888888888888888,\"#fdca26\"],[1.0,\"#f0f921\"]]}],\"heatmapgl\":[{\"type\":\"heatmapgl\",\"colorbar\":{\"outlinewidth\":0,\"ticks\":\"\"},\"colorscale\":[[0.0,\"#0d0887\"],[0.1111111111111111,\"#46039f\"],[0.2222222222222222,\"#7201a8\"],[0.3333333333333333,\"#9c179e\"],[0.4444444444444444,\"#bd3786\"],[0.5555555555555556,\"#d8576b\"],[0.6666666666666666,\"#ed7953\"],[0.7777777777777778,\"#fb9f3a\"],[0.8888888888888888,\"#fdca26\"],[1.0,\"#f0f921\"]]}],\"contourcarpet\":[{\"type\":\"contourcarpet\",\"colorbar\":{\"outlinewidth\":0,\"ticks\":\"\"}}],\"contour\":[{\"type\":\"contour\",\"colorbar\":{\"outlinewidth\":0,\"ticks\":\"\"},\"colorscale\":[[0.0,\"#0d0887\"],[0.1111111111111111,\"#46039f\"],[0.2222222222222222,\"#7201a8\"],[0.3333333333333333,\"#9c179e\"],[0.4444444444444444,\"#bd3786\"],[0.5555555555555556,\"#d8576b\"],[0.6666666666666666,\"#ed7953\"],[0.7777777777777778,\"#fb9f3a\"],[0.8888888888888888,\"#fdca26\"],[1.0,\"#f0f921\"]]}],\"surface\":[{\"type\":\"surface\",\"colorbar\":{\"outlinewidth\":0,\"ticks\":\"\"},\"colorscale\":[[0.0,\"#0d0887\"],[0.1111111111111111,\"#46039f\"],[0.2222222222222222,\"#7201a8\"],[0.3333333333333333,\"#9c179e\"],[0.4444444444444444,\"#bd3786\"],[0.5555555555555556,\"#d8576b\"],[0.6666666666666666,\"#ed7953\"],[0.7777777777777778,\"#fb9f3a\"],[0.8888888888888888,\"#fdca26\"],[1.0,\"#f0f921\"]]}],\"mesh3d\":[{\"type\":\"mesh3d\",\"colorbar\":{\"outlinewidth\":0,\"ticks\":\"\"}}],\"scatter\":[{\"fillpattern\":{\"fillmode\":\"overlay\",\"size\":10,\"solidity\":0.2},\"type\":\"scatter\"}],\"parcoords\":[{\"type\":\"parcoords\",\"line\":{\"colorbar\":{\"outlinewidth\":0,\"ticks\":\"\"}}}],\"scatterpolargl\":[{\"type\":\"scatterpolargl\",\"marker\":{\"colorbar\":{\"outlinewidth\":0,\"ticks\":\"\"}}}],\"bar\":[{\"error_x\":{\"color\":\"#2a3f5f\"},\"error_y\":{\"color\":\"#2a3f5f\"},\"marker\":{\"line\":{\"color\":\"#E5ECF6\",\"width\":0.5},\"pattern\":{\"fillmode\":\"overlay\",\"size\":10,\"solidity\":0.2}},\"type\":\"bar\"}],\"scattergeo\":[{\"type\":\"scattergeo\",\"marker\":{\"colorbar\":{\"outlinewidth\":0,\"ticks\":\"\"}}}],\"scatterpolar\":[{\"type\":\"scatterpolar\",\"marker\":{\"colorbar\":{\"outlinewidth\":0,\"ticks\":\"\"}}}],\"histogram\":[{\"marker\":{\"pattern\":{\"fillmode\":\"overlay\",\"size\":10,\"solidity\":0.2}},\"type\":\"histogram\"}],\"scattergl\":[{\"type\":\"scattergl\",\"marker\":{\"colorbar\":{\"outlinewidth\":0,\"ticks\":\"\"}}}],\"scatter3d\":[{\"type\":\"scatter3d\",\"line\":{\"colorbar\":{\"outlinewidth\":0,\"ticks\":\"\"}},\"marker\":{\"colorbar\":{\"outlinewidth\":0,\"ticks\":\"\"}}}],\"scattermapbox\":[{\"type\":\"scattermapbox\",\"marker\":{\"colorbar\":{\"outlinewidth\":0,\"ticks\":\"\"}}}],\"scatterternary\":[{\"type\":\"scatterternary\",\"marker\":{\"colorbar\":{\"outlinewidth\":0,\"ticks\":\"\"}}}],\"scattercarpet\":[{\"type\":\"scattercarpet\",\"marker\":{\"colorbar\":{\"outlinewidth\":0,\"ticks\":\"\"}}}],\"carpet\":[{\"aaxis\":{\"endlinecolor\":\"#2a3f5f\",\"gridcolor\":\"white\",\"linecolor\":\"white\",\"minorgridcolor\":\"white\",\"startlinecolor\":\"#2a3f5f\"},\"baxis\":{\"endlinecolor\":\"#2a3f5f\",\"gridcolor\":\"white\",\"linecolor\":\"white\",\"minorgridcolor\":\"white\",\"startlinecolor\":\"#2a3f5f\"},\"type\":\"carpet\"}],\"table\":[{\"cells\":{\"fill\":{\"color\":\"#EBF0F8\"},\"line\":{\"color\":\"white\"}},\"header\":{\"fill\":{\"color\":\"#C8D4E3\"},\"line\":{\"color\":\"white\"}},\"type\":\"table\"}],\"barpolar\":[{\"marker\":{\"line\":{\"color\":\"#E5ECF6\",\"width\":0.5},\"pattern\":{\"fillmode\":\"overlay\",\"size\":10,\"solidity\":0.2}},\"type\":\"barpolar\"}],\"pie\":[{\"automargin\":true,\"type\":\"pie\"}]},\"layout\":{\"autotypenumbers\":\"strict\",\"colorway\":[\"#636efa\",\"#EF553B\",\"#00cc96\",\"#ab63fa\",\"#FFA15A\",\"#19d3f3\",\"#FF6692\",\"#B6E880\",\"#FF97FF\",\"#FECB52\"],\"font\":{\"color\":\"#2a3f5f\"},\"hovermode\":\"closest\",\"hoverlabel\":{\"align\":\"left\"},\"paper_bgcolor\":\"white\",\"plot_bgcolor\":\"#E5ECF6\",\"polar\":{\"bgcolor\":\"#E5ECF6\",\"angularaxis\":{\"gridcolor\":\"white\",\"linecolor\":\"white\",\"ticks\":\"\"},\"radialaxis\":{\"gridcolor\":\"white\",\"linecolor\":\"white\",\"ticks\":\"\"}},\"ternary\":{\"bgcolor\":\"#E5ECF6\",\"aaxis\":{\"gridcolor\":\"white\",\"linecolor\":\"white\",\"ticks\":\"\"},\"baxis\":{\"gridcolor\":\"white\",\"linecolor\":\"white\",\"ticks\":\"\"},\"caxis\":{\"gridcolor\":\"white\",\"linecolor\":\"white\",\"ticks\":\"\"}},\"coloraxis\":{\"colorbar\":{\"outlinewidth\":0,\"ticks\":\"\"}},\"colorscale\":{\"sequential\":[[0.0,\"#0d0887\"],[0.1111111111111111,\"#46039f\"],[0.2222222222222222,\"#7201a8\"],[0.3333333333333333,\"#9c179e\"],[0.4444444444444444,\"#bd3786\"],[0.5555555555555556,\"#d8576b\"],[0.6666666666666666,\"#ed7953\"],[0.7777777777777778,\"#fb9f3a\"],[0.8888888888888888,\"#fdca26\"],[1.0,\"#f0f921\"]],\"sequentialminus\":[[0.0,\"#0d0887\"],[0.1111111111111111,\"#46039f\"],[0.2222222222222222,\"#7201a8\"],[0.3333333333333333,\"#9c179e\"],[0.4444444444444444,\"#bd3786\"],[0.5555555555555556,\"#d8576b\"],[0.6666666666666666,\"#ed7953\"],[0.7777777777777778,\"#fb9f3a\"],[0.8888888888888888,\"#fdca26\"],[1.0,\"#f0f921\"]],\"diverging\":[[0,\"#8e0152\"],[0.1,\"#c51b7d\"],[0.2,\"#de77ae\"],[0.3,\"#f1b6da\"],[0.4,\"#fde0ef\"],[0.5,\"#f7f7f7\"],[0.6,\"#e6f5d0\"],[0.7,\"#b8e186\"],[0.8,\"#7fbc41\"],[0.9,\"#4d9221\"],[1,\"#276419\"]]},\"xaxis\":{\"gridcolor\":\"white\",\"linecolor\":\"white\",\"ticks\":\"\",\"title\":{\"standoff\":15},\"zerolinecolor\":\"white\",\"automargin\":true,\"zerolinewidth\":2},\"yaxis\":{\"gridcolor\":\"white\",\"linecolor\":\"white\",\"ticks\":\"\",\"title\":{\"standoff\":15},\"zerolinecolor\":\"white\",\"automargin\":true,\"zerolinewidth\":2},\"scene\":{\"xaxis\":{\"backgroundcolor\":\"#E5ECF6\",\"gridcolor\":\"white\",\"linecolor\":\"white\",\"showbackground\":true,\"ticks\":\"\",\"zerolinecolor\":\"white\",\"gridwidth\":2},\"yaxis\":{\"backgroundcolor\":\"#E5ECF6\",\"gridcolor\":\"white\",\"linecolor\":\"white\",\"showbackground\":true,\"ticks\":\"\",\"zerolinecolor\":\"white\",\"gridwidth\":2},\"zaxis\":{\"backgroundcolor\":\"#E5ECF6\",\"gridcolor\":\"white\",\"linecolor\":\"white\",\"showbackground\":true,\"ticks\":\"\",\"zerolinecolor\":\"white\",\"gridwidth\":2}},\"shapedefaults\":{\"line\":{\"color\":\"#2a3f5f\"}},\"annotationdefaults\":{\"arrowcolor\":\"#2a3f5f\",\"arrowhead\":0,\"arrowwidth\":1},\"geo\":{\"bgcolor\":\"white\",\"landcolor\":\"#E5ECF6\",\"subunitcolor\":\"white\",\"showland\":true,\"showlakes\":true,\"lakecolor\":\"white\"},\"title\":{\"x\":0.05},\"mapbox\":{\"style\":\"light\"}}}},                        {\"responsive\": true}                    ).then(function(){\n",
       "                            \n",
       "var gd = document.getElementById('e8905577-7a48-4f22-9cb6-f3485d0c0064');\n",
       "var x = new MutationObserver(function (mutations, observer) {{\n",
       "        var display = window.getComputedStyle(gd).display;\n",
       "        if (!display || display === 'none') {{\n",
       "            console.log([gd, 'removed!']);\n",
       "            Plotly.purge(gd);\n",
       "            observer.disconnect();\n",
       "        }}\n",
       "}});\n",
       "\n",
       "// Listen for the removal of the full notebook cells\n",
       "var notebookContainer = gd.closest('#notebook-container');\n",
       "if (notebookContainer) {{\n",
       "    x.observe(notebookContainer, {childList: true});\n",
       "}}\n",
       "\n",
       "// Listen for the clearing of the current output cell\n",
       "var outputEl = gd.closest('.output');\n",
       "if (outputEl) {{\n",
       "    x.observe(outputEl, {childList: true});\n",
       "}}\n",
       "\n",
       "                        })                };                });            </script>        </div>"
      ]
     },
     "metadata": {},
     "output_type": "display_data"
    },
    {
     "name": "stdout",
     "output_type": "stream",
     "text": [
      "None\n"
     ]
    }
   ],
   "source": [
    "a = Family('A')\n",
    "b = Family('B')\n",
    "c = Family('C')\n",
    "d = Family('D')\n",
    "e = Family('E')\n",
    "f = Family('F')\n",
    "\n",
    "# Set up the> relationships\n",
    "a.add_child(b)\n",
    "a.add_child(c)\n",
    "b.add_child(d)\n",
    "c.add_child(e)\n",
    "c.add_child(f)\n",
    "\n",
    "# Assuming we are giving a father or mother attribute but we'll go with father for simplicity\n",
    "b.add_father(a)\n",
    "c.add_father(a)\n",
    "d.add_father(b)\n",
    "e.add_father(c)\n",
    "f.add_father(c)\n",
    " \n",
    "print(a.size()) # done\n",
    "# print(b.delete()) # done \n",
    "print(f.far_relation(d)) # done\n",
    "print(a.is_child(c)) #done\n",
    "print(e.is_siblings(f)) # done \n",
    "print(a.max_width_and_values()) # done\n",
    "print(a.farest()) #done\n",
    "print(b.is_related(c)) # done \n",
    "print(a.visualize_family_tree())"
   ]
  },
  {
   "cell_type": "code",
   "execution_count": 39,
   "id": "6cdae99c",
   "metadata": {},
   "outputs": [
    {
     "name": "stdout",
     "output_type": "stream",
     "text": [
      "6b23c0d5f35d1b11f9b683f0b0a617355deb11277d91ae091d399c655b87940d\n",
      "6\n",
      "True\n",
      "True\n",
      "(3, ['3f39d5c348e5b79d6e842c114e6cc571583bbf44e4b0ebfda1a01ec5745d43', 'a9f51566bd6705f7ea6ad54bb9deb449f795582d6529a0e22207b8981233ec58', 'f67ab10ad4e4c53121b6a5fe4da9c10ddee905b978d3788d2723d7bfacbe28a9'])\n",
      "2\n",
      "True\n"
     ]
    },
    {
     "data": {
      "application/vnd.plotly.v1+json": {
       "config": {
        "plotlyServerURL": "https://plot.ly"
       },
       "data": [
        {
         "mode": "lines",
         "type": "scatter",
         "x": [
          0,
          -1,
          null,
          0,
          -1,
          null,
          0,
          -1,
          null,
          0,
          -1,
          null,
          0,
          -1,
          null,
          -1,
          -2,
          null,
          -1,
          -2,
          null,
          0,
          -1,
          null,
          -1,
          -2,
          null,
          -1,
          -2,
          null,
          0,
          -1,
          null,
          -1,
          -2,
          null,
          -1,
          -2,
          null,
          -1,
          -2,
          null,
          -1,
          -2,
          null,
          0,
          -1,
          null,
          -1,
          -2,
          null,
          -1,
          -2,
          null,
          -1,
          -2,
          null,
          -1,
          -2,
          null
         ],
         "y": [
          0,
          0,
          null,
          0,
          0,
          null,
          0,
          1,
          null,
          0,
          1,
          null,
          0,
          0,
          null,
          0,
          0,
          null,
          0,
          0,
          null,
          0,
          0,
          null,
          0,
          0,
          null,
          0,
          0,
          null,
          0,
          1,
          null,
          1,
          1,
          null,
          1,
          1,
          null,
          1,
          2,
          null,
          1,
          2,
          null,
          0,
          1,
          null,
          1,
          1,
          null,
          1,
          1,
          null,
          1,
          2,
          null,
          1,
          2,
          null
         ]
        },
        {
         "mode": "markers+text",
         "text": [
          "559aead08264d5795d3909718cdd05abd49572e84fe55590eef31a88a08fdffd",
          "df7e70e521544f4834bbee64a9e3789febc4be81470df629cad6ddb3320a5c",
          "3f39d5c348e5b79d6e842c114e6cc571583bbf44e4b0ebfda1a01ec5745d43",
          "6b23c0d5f35d1b11f9b683f0b0a617355deb11277d91ae091d399c655b87940d",
          "a9f51566bd6705f7ea6ad54bb9deb449f795582d6529a0e22207b8981233ec58",
          "f67ab10ad4e4c53121b6a5fe4da9c10ddee905b978d3788d2723d7bfacbe28a9"
         ],
         "textposition": "bottom center",
         "type": "scatter",
         "x": [
          0,
          -1,
          -2,
          -1,
          -2,
          -2
         ],
         "y": [
          0,
          0,
          0,
          1,
          1,
          2
         ]
        }
       ],
       "layout": {
        "hovermode": "closest",
        "showlegend": false,
        "template": {
         "data": {
          "bar": [
           {
            "error_x": {
             "color": "#2a3f5f"
            },
            "error_y": {
             "color": "#2a3f5f"
            },
            "marker": {
             "line": {
              "color": "#E5ECF6",
              "width": 0.5
             },
             "pattern": {
              "fillmode": "overlay",
              "size": 10,
              "solidity": 0.2
             }
            },
            "type": "bar"
           }
          ],
          "barpolar": [
           {
            "marker": {
             "line": {
              "color": "#E5ECF6",
              "width": 0.5
             },
             "pattern": {
              "fillmode": "overlay",
              "size": 10,
              "solidity": 0.2
             }
            },
            "type": "barpolar"
           }
          ],
          "carpet": [
           {
            "aaxis": {
             "endlinecolor": "#2a3f5f",
             "gridcolor": "white",
             "linecolor": "white",
             "minorgridcolor": "white",
             "startlinecolor": "#2a3f5f"
            },
            "baxis": {
             "endlinecolor": "#2a3f5f",
             "gridcolor": "white",
             "linecolor": "white",
             "minorgridcolor": "white",
             "startlinecolor": "#2a3f5f"
            },
            "type": "carpet"
           }
          ],
          "choropleth": [
           {
            "colorbar": {
             "outlinewidth": 0,
             "ticks": ""
            },
            "type": "choropleth"
           }
          ],
          "contour": [
           {
            "colorbar": {
             "outlinewidth": 0,
             "ticks": ""
            },
            "colorscale": [
             [
              0,
              "#0d0887"
             ],
             [
              0.1111111111111111,
              "#46039f"
             ],
             [
              0.2222222222222222,
              "#7201a8"
             ],
             [
              0.3333333333333333,
              "#9c179e"
             ],
             [
              0.4444444444444444,
              "#bd3786"
             ],
             [
              0.5555555555555556,
              "#d8576b"
             ],
             [
              0.6666666666666666,
              "#ed7953"
             ],
             [
              0.7777777777777778,
              "#fb9f3a"
             ],
             [
              0.8888888888888888,
              "#fdca26"
             ],
             [
              1,
              "#f0f921"
             ]
            ],
            "type": "contour"
           }
          ],
          "contourcarpet": [
           {
            "colorbar": {
             "outlinewidth": 0,
             "ticks": ""
            },
            "type": "contourcarpet"
           }
          ],
          "heatmap": [
           {
            "colorbar": {
             "outlinewidth": 0,
             "ticks": ""
            },
            "colorscale": [
             [
              0,
              "#0d0887"
             ],
             [
              0.1111111111111111,
              "#46039f"
             ],
             [
              0.2222222222222222,
              "#7201a8"
             ],
             [
              0.3333333333333333,
              "#9c179e"
             ],
             [
              0.4444444444444444,
              "#bd3786"
             ],
             [
              0.5555555555555556,
              "#d8576b"
             ],
             [
              0.6666666666666666,
              "#ed7953"
             ],
             [
              0.7777777777777778,
              "#fb9f3a"
             ],
             [
              0.8888888888888888,
              "#fdca26"
             ],
             [
              1,
              "#f0f921"
             ]
            ],
            "type": "heatmap"
           }
          ],
          "heatmapgl": [
           {
            "colorbar": {
             "outlinewidth": 0,
             "ticks": ""
            },
            "colorscale": [
             [
              0,
              "#0d0887"
             ],
             [
              0.1111111111111111,
              "#46039f"
             ],
             [
              0.2222222222222222,
              "#7201a8"
             ],
             [
              0.3333333333333333,
              "#9c179e"
             ],
             [
              0.4444444444444444,
              "#bd3786"
             ],
             [
              0.5555555555555556,
              "#d8576b"
             ],
             [
              0.6666666666666666,
              "#ed7953"
             ],
             [
              0.7777777777777778,
              "#fb9f3a"
             ],
             [
              0.8888888888888888,
              "#fdca26"
             ],
             [
              1,
              "#f0f921"
             ]
            ],
            "type": "heatmapgl"
           }
          ],
          "histogram": [
           {
            "marker": {
             "pattern": {
              "fillmode": "overlay",
              "size": 10,
              "solidity": 0.2
             }
            },
            "type": "histogram"
           }
          ],
          "histogram2d": [
           {
            "colorbar": {
             "outlinewidth": 0,
             "ticks": ""
            },
            "colorscale": [
             [
              0,
              "#0d0887"
             ],
             [
              0.1111111111111111,
              "#46039f"
             ],
             [
              0.2222222222222222,
              "#7201a8"
             ],
             [
              0.3333333333333333,
              "#9c179e"
             ],
             [
              0.4444444444444444,
              "#bd3786"
             ],
             [
              0.5555555555555556,
              "#d8576b"
             ],
             [
              0.6666666666666666,
              "#ed7953"
             ],
             [
              0.7777777777777778,
              "#fb9f3a"
             ],
             [
              0.8888888888888888,
              "#fdca26"
             ],
             [
              1,
              "#f0f921"
             ]
            ],
            "type": "histogram2d"
           }
          ],
          "histogram2dcontour": [
           {
            "colorbar": {
             "outlinewidth": 0,
             "ticks": ""
            },
            "colorscale": [
             [
              0,
              "#0d0887"
             ],
             [
              0.1111111111111111,
              "#46039f"
             ],
             [
              0.2222222222222222,
              "#7201a8"
             ],
             [
              0.3333333333333333,
              "#9c179e"
             ],
             [
              0.4444444444444444,
              "#bd3786"
             ],
             [
              0.5555555555555556,
              "#d8576b"
             ],
             [
              0.6666666666666666,
              "#ed7953"
             ],
             [
              0.7777777777777778,
              "#fb9f3a"
             ],
             [
              0.8888888888888888,
              "#fdca26"
             ],
             [
              1,
              "#f0f921"
             ]
            ],
            "type": "histogram2dcontour"
           }
          ],
          "mesh3d": [
           {
            "colorbar": {
             "outlinewidth": 0,
             "ticks": ""
            },
            "type": "mesh3d"
           }
          ],
          "parcoords": [
           {
            "line": {
             "colorbar": {
              "outlinewidth": 0,
              "ticks": ""
             }
            },
            "type": "parcoords"
           }
          ],
          "pie": [
           {
            "automargin": true,
            "type": "pie"
           }
          ],
          "scatter": [
           {
            "fillpattern": {
             "fillmode": "overlay",
             "size": 10,
             "solidity": 0.2
            },
            "type": "scatter"
           }
          ],
          "scatter3d": [
           {
            "line": {
             "colorbar": {
              "outlinewidth": 0,
              "ticks": ""
             }
            },
            "marker": {
             "colorbar": {
              "outlinewidth": 0,
              "ticks": ""
             }
            },
            "type": "scatter3d"
           }
          ],
          "scattercarpet": [
           {
            "marker": {
             "colorbar": {
              "outlinewidth": 0,
              "ticks": ""
             }
            },
            "type": "scattercarpet"
           }
          ],
          "scattergeo": [
           {
            "marker": {
             "colorbar": {
              "outlinewidth": 0,
              "ticks": ""
             }
            },
            "type": "scattergeo"
           }
          ],
          "scattergl": [
           {
            "marker": {
             "colorbar": {
              "outlinewidth": 0,
              "ticks": ""
             }
            },
            "type": "scattergl"
           }
          ],
          "scattermapbox": [
           {
            "marker": {
             "colorbar": {
              "outlinewidth": 0,
              "ticks": ""
             }
            },
            "type": "scattermapbox"
           }
          ],
          "scatterpolar": [
           {
            "marker": {
             "colorbar": {
              "outlinewidth": 0,
              "ticks": ""
             }
            },
            "type": "scatterpolar"
           }
          ],
          "scatterpolargl": [
           {
            "marker": {
             "colorbar": {
              "outlinewidth": 0,
              "ticks": ""
             }
            },
            "type": "scatterpolargl"
           }
          ],
          "scatterternary": [
           {
            "marker": {
             "colorbar": {
              "outlinewidth": 0,
              "ticks": ""
             }
            },
            "type": "scatterternary"
           }
          ],
          "surface": [
           {
            "colorbar": {
             "outlinewidth": 0,
             "ticks": ""
            },
            "colorscale": [
             [
              0,
              "#0d0887"
             ],
             [
              0.1111111111111111,
              "#46039f"
             ],
             [
              0.2222222222222222,
              "#7201a8"
             ],
             [
              0.3333333333333333,
              "#9c179e"
             ],
             [
              0.4444444444444444,
              "#bd3786"
             ],
             [
              0.5555555555555556,
              "#d8576b"
             ],
             [
              0.6666666666666666,
              "#ed7953"
             ],
             [
              0.7777777777777778,
              "#fb9f3a"
             ],
             [
              0.8888888888888888,
              "#fdca26"
             ],
             [
              1,
              "#f0f921"
             ]
            ],
            "type": "surface"
           }
          ],
          "table": [
           {
            "cells": {
             "fill": {
              "color": "#EBF0F8"
             },
             "line": {
              "color": "white"
             }
            },
            "header": {
             "fill": {
              "color": "#C8D4E3"
             },
             "line": {
              "color": "white"
             }
            },
            "type": "table"
           }
          ]
         },
         "layout": {
          "annotationdefaults": {
           "arrowcolor": "#2a3f5f",
           "arrowhead": 0,
           "arrowwidth": 1
          },
          "autotypenumbers": "strict",
          "coloraxis": {
           "colorbar": {
            "outlinewidth": 0,
            "ticks": ""
           }
          },
          "colorscale": {
           "diverging": [
            [
             0,
             "#8e0152"
            ],
            [
             0.1,
             "#c51b7d"
            ],
            [
             0.2,
             "#de77ae"
            ],
            [
             0.3,
             "#f1b6da"
            ],
            [
             0.4,
             "#fde0ef"
            ],
            [
             0.5,
             "#f7f7f7"
            ],
            [
             0.6,
             "#e6f5d0"
            ],
            [
             0.7,
             "#b8e186"
            ],
            [
             0.8,
             "#7fbc41"
            ],
            [
             0.9,
             "#4d9221"
            ],
            [
             1,
             "#276419"
            ]
           ],
           "sequential": [
            [
             0,
             "#0d0887"
            ],
            [
             0.1111111111111111,
             "#46039f"
            ],
            [
             0.2222222222222222,
             "#7201a8"
            ],
            [
             0.3333333333333333,
             "#9c179e"
            ],
            [
             0.4444444444444444,
             "#bd3786"
            ],
            [
             0.5555555555555556,
             "#d8576b"
            ],
            [
             0.6666666666666666,
             "#ed7953"
            ],
            [
             0.7777777777777778,
             "#fb9f3a"
            ],
            [
             0.8888888888888888,
             "#fdca26"
            ],
            [
             1,
             "#f0f921"
            ]
           ],
           "sequentialminus": [
            [
             0,
             "#0d0887"
            ],
            [
             0.1111111111111111,
             "#46039f"
            ],
            [
             0.2222222222222222,
             "#7201a8"
            ],
            [
             0.3333333333333333,
             "#9c179e"
            ],
            [
             0.4444444444444444,
             "#bd3786"
            ],
            [
             0.5555555555555556,
             "#d8576b"
            ],
            [
             0.6666666666666666,
             "#ed7953"
            ],
            [
             0.7777777777777778,
             "#fb9f3a"
            ],
            [
             0.8888888888888888,
             "#fdca26"
            ],
            [
             1,
             "#f0f921"
            ]
           ]
          },
          "colorway": [
           "#636efa",
           "#EF553B",
           "#00cc96",
           "#ab63fa",
           "#FFA15A",
           "#19d3f3",
           "#FF6692",
           "#B6E880",
           "#FF97FF",
           "#FECB52"
          ],
          "font": {
           "color": "#2a3f5f"
          },
          "geo": {
           "bgcolor": "white",
           "lakecolor": "white",
           "landcolor": "#E5ECF6",
           "showlakes": true,
           "showland": true,
           "subunitcolor": "white"
          },
          "hoverlabel": {
           "align": "left"
          },
          "hovermode": "closest",
          "mapbox": {
           "style": "light"
          },
          "paper_bgcolor": "white",
          "plot_bgcolor": "#E5ECF6",
          "polar": {
           "angularaxis": {
            "gridcolor": "white",
            "linecolor": "white",
            "ticks": ""
           },
           "bgcolor": "#E5ECF6",
           "radialaxis": {
            "gridcolor": "white",
            "linecolor": "white",
            "ticks": ""
           }
          },
          "scene": {
           "xaxis": {
            "backgroundcolor": "#E5ECF6",
            "gridcolor": "white",
            "gridwidth": 2,
            "linecolor": "white",
            "showbackground": true,
            "ticks": "",
            "zerolinecolor": "white"
           },
           "yaxis": {
            "backgroundcolor": "#E5ECF6",
            "gridcolor": "white",
            "gridwidth": 2,
            "linecolor": "white",
            "showbackground": true,
            "ticks": "",
            "zerolinecolor": "white"
           },
           "zaxis": {
            "backgroundcolor": "#E5ECF6",
            "gridcolor": "white",
            "gridwidth": 2,
            "linecolor": "white",
            "showbackground": true,
            "ticks": "",
            "zerolinecolor": "white"
           }
          },
          "shapedefaults": {
           "line": {
            "color": "#2a3f5f"
           }
          },
          "ternary": {
           "aaxis": {
            "gridcolor": "white",
            "linecolor": "white",
            "ticks": ""
           },
           "baxis": {
            "gridcolor": "white",
            "linecolor": "white",
            "ticks": ""
           },
           "bgcolor": "#E5ECF6",
           "caxis": {
            "gridcolor": "white",
            "linecolor": "white",
            "ticks": ""
           }
          },
          "title": {
           "x": 0.05
          },
          "xaxis": {
           "automargin": true,
           "gridcolor": "white",
           "linecolor": "white",
           "ticks": "",
           "title": {
            "standoff": 15
           },
           "zerolinecolor": "white",
           "zerolinewidth": 2
          },
          "yaxis": {
           "automargin": true,
           "gridcolor": "white",
           "linecolor": "white",
           "ticks": "",
           "title": {
            "standoff": 15
           },
           "zerolinecolor": "white",
           "zerolinewidth": 2
          }
         }
        },
        "title": {
         "text": "Family Tree"
        }
       }
      },
      "text/html": [
       "<div>                            <div id=\"07f67024-b5aa-48df-a20b-c3ace2afb38b\" class=\"plotly-graph-div\" style=\"height:525px; width:100%;\"></div>            <script type=\"text/javascript\">                require([\"plotly\"], function(Plotly) {                    window.PLOTLYENV=window.PLOTLYENV || {};                                    if (document.getElementById(\"07f67024-b5aa-48df-a20b-c3ace2afb38b\")) {                    Plotly.newPlot(                        \"07f67024-b5aa-48df-a20b-c3ace2afb38b\",                        [{\"mode\":\"lines\",\"x\":[0,-1,null,0,-1,null,0,-1,null,0,-1,null,0,-1,null,-1,-2,null,-1,-2,null,0,-1,null,-1,-2,null,-1,-2,null,0,-1,null,-1,-2,null,-1,-2,null,-1,-2,null,-1,-2,null,0,-1,null,-1,-2,null,-1,-2,null,-1,-2,null,-1,-2,null],\"y\":[0,0,null,0,0,null,0,1,null,0,1,null,0,0,null,0,0,null,0,0,null,0,0,null,0,0,null,0,0,null,0,1,null,1,1,null,1,1,null,1,2,null,1,2,null,0,1,null,1,1,null,1,1,null,1,2,null,1,2,null],\"type\":\"scatter\"},{\"mode\":\"markers+text\",\"text\":[\"559aead08264d5795d3909718cdd05abd49572e84fe55590eef31a88a08fdffd\",\"df7e70e521544f4834bbee64a9e3789febc4be81470df629cad6ddb3320a5c\",\"3f39d5c348e5b79d6e842c114e6cc571583bbf44e4b0ebfda1a01ec5745d43\",\"6b23c0d5f35d1b11f9b683f0b0a617355deb11277d91ae091d399c655b87940d\",\"a9f51566bd6705f7ea6ad54bb9deb449f795582d6529a0e22207b8981233ec58\",\"f67ab10ad4e4c53121b6a5fe4da9c10ddee905b978d3788d2723d7bfacbe28a9\"],\"textposition\":\"bottom center\",\"x\":[0,-1,-2,-1,-2,-2],\"y\":[0,0,0,1,1,2],\"type\":\"scatter\"}],                        {\"hovermode\":\"closest\",\"showlegend\":false,\"title\":{\"text\":\"Family Tree\"},\"template\":{\"data\":{\"histogram2dcontour\":[{\"type\":\"histogram2dcontour\",\"colorbar\":{\"outlinewidth\":0,\"ticks\":\"\"},\"colorscale\":[[0.0,\"#0d0887\"],[0.1111111111111111,\"#46039f\"],[0.2222222222222222,\"#7201a8\"],[0.3333333333333333,\"#9c179e\"],[0.4444444444444444,\"#bd3786\"],[0.5555555555555556,\"#d8576b\"],[0.6666666666666666,\"#ed7953\"],[0.7777777777777778,\"#fb9f3a\"],[0.8888888888888888,\"#fdca26\"],[1.0,\"#f0f921\"]]}],\"choropleth\":[{\"type\":\"choropleth\",\"colorbar\":{\"outlinewidth\":0,\"ticks\":\"\"}}],\"histogram2d\":[{\"type\":\"histogram2d\",\"colorbar\":{\"outlinewidth\":0,\"ticks\":\"\"},\"colorscale\":[[0.0,\"#0d0887\"],[0.1111111111111111,\"#46039f\"],[0.2222222222222222,\"#7201a8\"],[0.3333333333333333,\"#9c179e\"],[0.4444444444444444,\"#bd3786\"],[0.5555555555555556,\"#d8576b\"],[0.6666666666666666,\"#ed7953\"],[0.7777777777777778,\"#fb9f3a\"],[0.8888888888888888,\"#fdca26\"],[1.0,\"#f0f921\"]]}],\"heatmap\":[{\"type\":\"heatmap\",\"colorbar\":{\"outlinewidth\":0,\"ticks\":\"\"},\"colorscale\":[[0.0,\"#0d0887\"],[0.1111111111111111,\"#46039f\"],[0.2222222222222222,\"#7201a8\"],[0.3333333333333333,\"#9c179e\"],[0.4444444444444444,\"#bd3786\"],[0.5555555555555556,\"#d8576b\"],[0.6666666666666666,\"#ed7953\"],[0.7777777777777778,\"#fb9f3a\"],[0.8888888888888888,\"#fdca26\"],[1.0,\"#f0f921\"]]}],\"heatmapgl\":[{\"type\":\"heatmapgl\",\"colorbar\":{\"outlinewidth\":0,\"ticks\":\"\"},\"colorscale\":[[0.0,\"#0d0887\"],[0.1111111111111111,\"#46039f\"],[0.2222222222222222,\"#7201a8\"],[0.3333333333333333,\"#9c179e\"],[0.4444444444444444,\"#bd3786\"],[0.5555555555555556,\"#d8576b\"],[0.6666666666666666,\"#ed7953\"],[0.7777777777777778,\"#fb9f3a\"],[0.8888888888888888,\"#fdca26\"],[1.0,\"#f0f921\"]]}],\"contourcarpet\":[{\"type\":\"contourcarpet\",\"colorbar\":{\"outlinewidth\":0,\"ticks\":\"\"}}],\"contour\":[{\"type\":\"contour\",\"colorbar\":{\"outlinewidth\":0,\"ticks\":\"\"},\"colorscale\":[[0.0,\"#0d0887\"],[0.1111111111111111,\"#46039f\"],[0.2222222222222222,\"#7201a8\"],[0.3333333333333333,\"#9c179e\"],[0.4444444444444444,\"#bd3786\"],[0.5555555555555556,\"#d8576b\"],[0.6666666666666666,\"#ed7953\"],[0.7777777777777778,\"#fb9f3a\"],[0.8888888888888888,\"#fdca26\"],[1.0,\"#f0f921\"]]}],\"surface\":[{\"type\":\"surface\",\"colorbar\":{\"outlinewidth\":0,\"ticks\":\"\"},\"colorscale\":[[0.0,\"#0d0887\"],[0.1111111111111111,\"#46039f\"],[0.2222222222222222,\"#7201a8\"],[0.3333333333333333,\"#9c179e\"],[0.4444444444444444,\"#bd3786\"],[0.5555555555555556,\"#d8576b\"],[0.6666666666666666,\"#ed7953\"],[0.7777777777777778,\"#fb9f3a\"],[0.8888888888888888,\"#fdca26\"],[1.0,\"#f0f921\"]]}],\"mesh3d\":[{\"type\":\"mesh3d\",\"colorbar\":{\"outlinewidth\":0,\"ticks\":\"\"}}],\"scatter\":[{\"fillpattern\":{\"fillmode\":\"overlay\",\"size\":10,\"solidity\":0.2},\"type\":\"scatter\"}],\"parcoords\":[{\"type\":\"parcoords\",\"line\":{\"colorbar\":{\"outlinewidth\":0,\"ticks\":\"\"}}}],\"scatterpolargl\":[{\"type\":\"scatterpolargl\",\"marker\":{\"colorbar\":{\"outlinewidth\":0,\"ticks\":\"\"}}}],\"bar\":[{\"error_x\":{\"color\":\"#2a3f5f\"},\"error_y\":{\"color\":\"#2a3f5f\"},\"marker\":{\"line\":{\"color\":\"#E5ECF6\",\"width\":0.5},\"pattern\":{\"fillmode\":\"overlay\",\"size\":10,\"solidity\":0.2}},\"type\":\"bar\"}],\"scattergeo\":[{\"type\":\"scattergeo\",\"marker\":{\"colorbar\":{\"outlinewidth\":0,\"ticks\":\"\"}}}],\"scatterpolar\":[{\"type\":\"scatterpolar\",\"marker\":{\"colorbar\":{\"outlinewidth\":0,\"ticks\":\"\"}}}],\"histogram\":[{\"marker\":{\"pattern\":{\"fillmode\":\"overlay\",\"size\":10,\"solidity\":0.2}},\"type\":\"histogram\"}],\"scattergl\":[{\"type\":\"scattergl\",\"marker\":{\"colorbar\":{\"outlinewidth\":0,\"ticks\":\"\"}}}],\"scatter3d\":[{\"type\":\"scatter3d\",\"line\":{\"colorbar\":{\"outlinewidth\":0,\"ticks\":\"\"}},\"marker\":{\"colorbar\":{\"outlinewidth\":0,\"ticks\":\"\"}}}],\"scattermapbox\":[{\"type\":\"scattermapbox\",\"marker\":{\"colorbar\":{\"outlinewidth\":0,\"ticks\":\"\"}}}],\"scatterternary\":[{\"type\":\"scatterternary\",\"marker\":{\"colorbar\":{\"outlinewidth\":0,\"ticks\":\"\"}}}],\"scattercarpet\":[{\"type\":\"scattercarpet\",\"marker\":{\"colorbar\":{\"outlinewidth\":0,\"ticks\":\"\"}}}],\"carpet\":[{\"aaxis\":{\"endlinecolor\":\"#2a3f5f\",\"gridcolor\":\"white\",\"linecolor\":\"white\",\"minorgridcolor\":\"white\",\"startlinecolor\":\"#2a3f5f\"},\"baxis\":{\"endlinecolor\":\"#2a3f5f\",\"gridcolor\":\"white\",\"linecolor\":\"white\",\"minorgridcolor\":\"white\",\"startlinecolor\":\"#2a3f5f\"},\"type\":\"carpet\"}],\"table\":[{\"cells\":{\"fill\":{\"color\":\"#EBF0F8\"},\"line\":{\"color\":\"white\"}},\"header\":{\"fill\":{\"color\":\"#C8D4E3\"},\"line\":{\"color\":\"white\"}},\"type\":\"table\"}],\"barpolar\":[{\"marker\":{\"line\":{\"color\":\"#E5ECF6\",\"width\":0.5},\"pattern\":{\"fillmode\":\"overlay\",\"size\":10,\"solidity\":0.2}},\"type\":\"barpolar\"}],\"pie\":[{\"automargin\":true,\"type\":\"pie\"}]},\"layout\":{\"autotypenumbers\":\"strict\",\"colorway\":[\"#636efa\",\"#EF553B\",\"#00cc96\",\"#ab63fa\",\"#FFA15A\",\"#19d3f3\",\"#FF6692\",\"#B6E880\",\"#FF97FF\",\"#FECB52\"],\"font\":{\"color\":\"#2a3f5f\"},\"hovermode\":\"closest\",\"hoverlabel\":{\"align\":\"left\"},\"paper_bgcolor\":\"white\",\"plot_bgcolor\":\"#E5ECF6\",\"polar\":{\"bgcolor\":\"#E5ECF6\",\"angularaxis\":{\"gridcolor\":\"white\",\"linecolor\":\"white\",\"ticks\":\"\"},\"radialaxis\":{\"gridcolor\":\"white\",\"linecolor\":\"white\",\"ticks\":\"\"}},\"ternary\":{\"bgcolor\":\"#E5ECF6\",\"aaxis\":{\"gridcolor\":\"white\",\"linecolor\":\"white\",\"ticks\":\"\"},\"baxis\":{\"gridcolor\":\"white\",\"linecolor\":\"white\",\"ticks\":\"\"},\"caxis\":{\"gridcolor\":\"white\",\"linecolor\":\"white\",\"ticks\":\"\"}},\"coloraxis\":{\"colorbar\":{\"outlinewidth\":0,\"ticks\":\"\"}},\"colorscale\":{\"sequential\":[[0.0,\"#0d0887\"],[0.1111111111111111,\"#46039f\"],[0.2222222222222222,\"#7201a8\"],[0.3333333333333333,\"#9c179e\"],[0.4444444444444444,\"#bd3786\"],[0.5555555555555556,\"#d8576b\"],[0.6666666666666666,\"#ed7953\"],[0.7777777777777778,\"#fb9f3a\"],[0.8888888888888888,\"#fdca26\"],[1.0,\"#f0f921\"]],\"sequentialminus\":[[0.0,\"#0d0887\"],[0.1111111111111111,\"#46039f\"],[0.2222222222222222,\"#7201a8\"],[0.3333333333333333,\"#9c179e\"],[0.4444444444444444,\"#bd3786\"],[0.5555555555555556,\"#d8576b\"],[0.6666666666666666,\"#ed7953\"],[0.7777777777777778,\"#fb9f3a\"],[0.8888888888888888,\"#fdca26\"],[1.0,\"#f0f921\"]],\"diverging\":[[0,\"#8e0152\"],[0.1,\"#c51b7d\"],[0.2,\"#de77ae\"],[0.3,\"#f1b6da\"],[0.4,\"#fde0ef\"],[0.5,\"#f7f7f7\"],[0.6,\"#e6f5d0\"],[0.7,\"#b8e186\"],[0.8,\"#7fbc41\"],[0.9,\"#4d9221\"],[1,\"#276419\"]]},\"xaxis\":{\"gridcolor\":\"white\",\"linecolor\":\"white\",\"ticks\":\"\",\"title\":{\"standoff\":15},\"zerolinecolor\":\"white\",\"automargin\":true,\"zerolinewidth\":2},\"yaxis\":{\"gridcolor\":\"white\",\"linecolor\":\"white\",\"ticks\":\"\",\"title\":{\"standoff\":15},\"zerolinecolor\":\"white\",\"automargin\":true,\"zerolinewidth\":2},\"scene\":{\"xaxis\":{\"backgroundcolor\":\"#E5ECF6\",\"gridcolor\":\"white\",\"linecolor\":\"white\",\"showbackground\":true,\"ticks\":\"\",\"zerolinecolor\":\"white\",\"gridwidth\":2},\"yaxis\":{\"backgroundcolor\":\"#E5ECF6\",\"gridcolor\":\"white\",\"linecolor\":\"white\",\"showbackground\":true,\"ticks\":\"\",\"zerolinecolor\":\"white\",\"gridwidth\":2},\"zaxis\":{\"backgroundcolor\":\"#E5ECF6\",\"gridcolor\":\"white\",\"linecolor\":\"white\",\"showbackground\":true,\"ticks\":\"\",\"zerolinecolor\":\"white\",\"gridwidth\":2}},\"shapedefaults\":{\"line\":{\"color\":\"#2a3f5f\"}},\"annotationdefaults\":{\"arrowcolor\":\"#2a3f5f\",\"arrowhead\":0,\"arrowwidth\":1},\"geo\":{\"bgcolor\":\"white\",\"landcolor\":\"#E5ECF6\",\"subunitcolor\":\"white\",\"showland\":true,\"showlakes\":true,\"lakecolor\":\"white\"},\"title\":{\"x\":0.05},\"mapbox\":{\"style\":\"light\"}}}},                        {\"responsive\": true}                    ).then(function(){\n",
       "                            \n",
       "var gd = document.getElementById('07f67024-b5aa-48df-a20b-c3ace2afb38b');\n",
       "var x = new MutationObserver(function (mutations, observer) {{\n",
       "        var display = window.getComputedStyle(gd).display;\n",
       "        if (!display || display === 'none') {{\n",
       "            console.log([gd, 'removed!']);\n",
       "            Plotly.purge(gd);\n",
       "            observer.disconnect();\n",
       "        }}\n",
       "}});\n",
       "\n",
       "// Listen for the removal of the full notebook cells\n",
       "var notebookContainer = gd.closest('#notebook-container');\n",
       "if (notebookContainer) {{\n",
       "    x.observe(notebookContainer, {childList: true});\n",
       "}}\n",
       "\n",
       "// Listen for the clearing of the current output cell\n",
       "var outputEl = gd.closest('.output');\n",
       "if (outputEl) {{\n",
       "    x.observe(outputEl, {childList: true});\n",
       "}}\n",
       "\n",
       "                        })                };                });            </script>        </div>"
      ]
     },
     "metadata": {},
     "output_type": "display_data"
    },
    {
     "name": "stdout",
     "output_type": "stream",
     "text": [
      "None\n"
     ]
    }
   ],
   "source": [
    "a = Family(sha_256('A'))\n",
    "b = Family(sha_256('B'))\n",
    "c = Family(sha_256('C'))\n",
    "d = Family(sha_256('D'))\n",
    "e = Family(sha_256('E'))\n",
    "f = Family(sha_256('F'))\n",
    "\n",
    "# Set up the> relationships\n",
    "a.add_child(b)\n",
    "a.add_child(c)\n",
    "b.add_child(d)\n",
    "c.add_child(e)\n",
    "c.add_child(f)\n",
    "\n",
    "# Assuming we are giving a father or mother attribute but we'll go with father for simplicity\n",
    "b.add_father(a)\n",
    "c.add_father(a)\n",
    "d.add_father(b)\n",
    "e.add_father(c)\n",
    "f.add_father(c)\n",
    "print(e.far_relation(f)) # done \n",
    "print(a.size()) # done\n",
    "# print(b.delete()) # done \n",
    "print(a.is_child(c)) #done\n",
    "print(e.is_siblings(f)) # done \n",
    "print(a.max_width_and_values()) # done\n",
    "print(a.farest()) #done\n",
    "print(b.is_related(c)) # done \n",
    "print(a.visualize_family_tree())"
   ]
  }
 ],
 "metadata": {
  "kernelspec": {
   "display_name": "Python 3 (ipykernel)",
   "language": "python",
   "name": "python3"
  },
  "language_info": {
   "codemirror_mode": {
    "name": "ipython",
    "version": 3
   },
   "file_extension": ".py",
   "mimetype": "text/x-python",
   "name": "python",
   "nbconvert_exporter": "python",
   "pygments_lexer": "ipython3",
   "version": "3.11.4"
  }
 },
 "nbformat": 4,
 "nbformat_minor": 5
}
